{
 "cells": [
  {
   "cell_type": "code",
   "id": "initial_id",
   "metadata": {
    "collapsed": true,
    "ExecuteTime": {
     "end_time": "2025-10-30T06:33:45.423653Z",
     "start_time": "2025-10-30T06:33:45.415596Z"
    }
   },
   "source": [
    "# Way 1\n",
    "street = 'Waghodiya \\n'\n",
    "city = 'Vadodara \\n'\n",
    "country = 'India \\n'\n",
    "\n",
    "address = street + city  + country\n",
    "\n",
    "# Way 2\n",
    "\n",
    "street2 = 'Waghodiya'\n",
    "city2 = 'Vadodara'\n",
    "country2 = 'India'\n",
    "address_2 = f\"{street2}\\n{city2}\\n{country2}\"\n",
    "\n",
    "print(address)\n",
    "print(address_2)\n"
   ],
   "outputs": [
    {
     "name": "stdout",
     "output_type": "stream",
     "text": [
      "Waghodiya \n",
      "Vadodara \n",
      "India \n",
      "\n",
      "Waghodiya\n",
      "Vadodara\n",
      "India\n"
     ]
    }
   ],
   "execution_count": 1
  },
  {
   "metadata": {
    "ExecuteTime": {
     "end_time": "2025-10-30T06:33:45.502694Z",
     "start_time": "2025-10-30T06:33:45.461386Z"
    }
   },
   "cell_type": "code",
   "source": [
    "fact = \"Earth revolves around the sun\"\n",
    "\n",
    "print(fact[6:14])\n",
    "print(fact[-3:])"
   ],
   "id": "fb6e136bedd80d20",
   "outputs": [
    {
     "name": "stdout",
     "output_type": "stream",
     "text": [
      "revolves\n",
      "sun\n"
     ]
    }
   ],
   "execution_count": 2
  },
  {
   "metadata": {
    "ExecuteTime": {
     "end_time": "2025-10-30T06:53:12.656508Z",
     "start_time": "2025-10-30T06:53:07.372758Z"
    }
   },
   "cell_type": "code",
   "source": [
    "fruits = int(input(''))\n",
    "vegetables = int(input(''))\n",
    "\n",
    "print(f\"I eat {vegetables} veggies and {fruits} fruits daily \")"
   ],
   "id": "e59bfc7ce450d95b",
   "outputs": [
    {
     "name": "stdout",
     "output_type": "stream",
     "text": [
      "I eat 5 veggies and 3 fruits daily \n"
     ]
    }
   ],
   "execution_count": 4
  },
  {
   "metadata": {
    "ExecuteTime": {
     "end_time": "2025-10-30T06:55:29.823345Z",
     "start_time": "2025-10-30T06:55:29.820177Z"
    }
   },
   "cell_type": "code",
   "source": [
    "s = \"maine 200 banana khaye\"\n",
    "\n",
    "new_s = s.replace(\"200 banana\", \"10 samosa\")\n",
    "print(new_s)"
   ],
   "id": "5083f177b1e38d22",
   "outputs": [
    {
     "name": "stdout",
     "output_type": "stream",
     "text": [
      "maine 10 samosa khaye\n"
     ]
    }
   ],
   "execution_count": 7
  },
  {
   "metadata": {},
   "cell_type": "code",
   "outputs": [],
   "execution_count": null,
   "source": "",
   "id": "98430488b20cf4a0"
  }
 ],
 "metadata": {
  "kernelspec": {
   "display_name": "Python 3",
   "language": "python",
   "name": "python3"
  },
  "language_info": {
   "codemirror_mode": {
    "name": "ipython",
    "version": 2
   },
   "file_extension": ".py",
   "mimetype": "text/x-python",
   "name": "python",
   "nbconvert_exporter": "python",
   "pygments_lexer": "ipython2",
   "version": "2.7.6"
  }
 },
 "nbformat": 4,
 "nbformat_minor": 5
}
