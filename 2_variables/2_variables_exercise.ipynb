{
 "cells": [
  {
   "cell_type": "code",
   "id": "initial_id",
   "metadata": {
    "collapsed": true,
    "ExecuteTime": {
     "end_time": "2025-10-15T12:34:51.523304Z",
     "start_time": "2025-10-15T12:34:51.520095Z"
    }
   },
   "source": [
    "# break = 5\n",
    "# break may only occur syntactically nested in a for or while loop, but not nested in a function or class definition within that loop.\n",
    "# It terminates the nearest enclosing loop, skipping the optional else clause if the loop has one.\n",
    "# If a for loop is terminated by break, the loop control target keeps its current value.\n",
    "# When break passes control out of a try statement with a finally clause, that finally clause is executed before really leaving the loop."
   ],
   "outputs": [],
   "execution_count": 1
  },
  {
   "metadata": {
    "ExecuteTime": {
     "end_time": "2025-10-15T12:34:51.532492Z",
     "start_time": "2025-10-15T12:34:51.529394Z"
    }
   },
   "cell_type": "code",
   "source": [
    "birth_year = 2004\n",
    "current_year = 2025\n",
    "\n",
    "print(current_year - birth_year)"
   ],
   "id": "782dc6278786c2a4",
   "outputs": [
    {
     "name": "stdout",
     "output_type": "stream",
     "text": [
      "21\n"
     ]
    }
   ],
   "execution_count": 2
  },
  {
   "metadata": {
    "ExecuteTime": {
     "end_time": "2025-10-15T12:34:51.549646Z",
     "start_time": "2025-10-15T12:34:51.546582Z"
    }
   },
   "cell_type": "code",
   "source": [
    "first_name = \"Kalp\"\n",
    "middle_name = \"Nishit\"\n",
    "last_name = \"Doshi\"\n",
    "\n",
    "print(f\"{first_name} {middle_name} {last_name}\")"
   ],
   "id": "5aba4c54ef6fe25d",
   "outputs": [
    {
     "name": "stdout",
     "output_type": "stream",
     "text": [
      "Kalp Nishit Doshi\n"
     ]
    }
   ],
   "execution_count": 3
  },
  {
   "metadata": {
    "ExecuteTime": {
     "end_time": "2025-10-15T12:34:51.563223Z",
     "start_time": "2025-10-15T12:34:51.561373Z"
    }
   },
   "cell_type": "code",
   "source": [
    "_nation = 1\n",
    "# 1record = 1\n",
    "record1 = 1\n",
    "record_one = 1\n",
    "# record-one = 1\n",
    "# record^one = 1"
   ],
   "id": "300e315300ea6271",
   "outputs": [],
   "execution_count": null
  }
 ],
 "metadata": {
  "kernelspec": {
   "display_name": "Python 3",
   "language": "python",
   "name": "python3"
  },
  "language_info": {
   "codemirror_mode": {
    "name": "ipython",
    "version": 2
   },
   "file_extension": ".py",
   "mimetype": "text/x-python",
   "name": "python",
   "nbconvert_exporter": "python",
   "pygments_lexer": "ipython2",
   "version": "2.7.6"
  }
 },
 "nbformat": 4,
 "nbformat_minor": 5
}
