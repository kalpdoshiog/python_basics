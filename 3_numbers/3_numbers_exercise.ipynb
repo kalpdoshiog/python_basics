{
 "cells": [
  {
   "cell_type": "code",
   "id": "initial_id",
   "metadata": {
    "collapsed": true,
    "ExecuteTime": {
     "end_time": "2025-10-20T16:07:43.352358Z",
     "start_time": "2025-10-20T16:07:43.347874Z"
    }
   },
   "source": [
    "from cmath import phase\n",
    "\n",
    "long = 92\n",
    "width = 48.8\n",
    "area = long * width\n",
    "area"
   ],
   "outputs": [
    {
     "data": {
      "text/plain": [
       "4489.599999999999"
      ]
     },
     "execution_count": 9,
     "metadata": {},
     "output_type": "execute_result"
    }
   ],
   "execution_count": 9
  },
  {
   "metadata": {
    "ExecuteTime": {
     "end_time": "2025-10-20T16:03:52.865465Z",
     "start_time": "2025-10-20T16:03:52.861508Z"
    }
   },
   "cell_type": "code",
   "source": [
    "potato_chips = 9\n",
    "cost = 1.49\n",
    "give = 20\n",
    "total_cost = potato_chips * cost\n",
    "remaining_money = give - total_cost\n",
    "remaining_money"
   ],
   "id": "8a83225d3e990ce2",
   "outputs": [
    {
     "data": {
      "text/plain": [
       "6.59"
      ]
     },
     "execution_count": 2,
     "metadata": {},
     "output_type": "execute_result"
    }
   ],
   "execution_count": 2
  },
  {
   "metadata": {
    "ExecuteTime": {
     "end_time": "2025-10-20T16:08:39.286101Z",
     "start_time": "2025-10-20T16:08:39.282809Z"
    }
   },
   "cell_type": "code",
   "source": [
    "length = 5.5\n",
    "area = length**2\n",
    "cost = area*500\n",
    "cost"
   ],
   "id": "52cb78b96d188608",
   "outputs": [
    {
     "data": {
      "text/plain": [
       "15125.0"
      ]
     },
     "execution_count": 12,
     "metadata": {},
     "output_type": "execute_result"
    }
   ],
   "execution_count": 12
  },
  {
   "metadata": {
    "ExecuteTime": {
     "end_time": "2025-10-20T16:09:30.413148Z",
     "start_time": "2025-10-20T16:09:30.409127Z"
    }
   },
   "cell_type": "code",
   "source": [
    "num = 17\n",
    "print(\"\", format(num, 'b'))"
   ],
   "id": "b420698d5285cebd",
   "outputs": [
    {
     "name": "stdout",
     "output_type": "stream",
     "text": [
      " 10001\n"
     ]
    }
   ],
   "execution_count": 14
  },
  {
   "metadata": {},
   "cell_type": "code",
   "outputs": [],
   "execution_count": null,
   "source": "",
   "id": "928e52890a92c902"
  }
 ],
 "metadata": {
  "kernelspec": {
   "display_name": "Python 3",
   "language": "python",
   "name": "python3"
  },
  "language_info": {
   "codemirror_mode": {
    "name": "ipython",
    "version": 2
   },
   "file_extension": ".py",
   "mimetype": "text/x-python",
   "name": "python",
   "nbconvert_exporter": "python",
   "pygments_lexer": "ipython2",
   "version": "2.7.6"
  }
 },
 "nbformat": 4,
 "nbformat_minor": 5
}
