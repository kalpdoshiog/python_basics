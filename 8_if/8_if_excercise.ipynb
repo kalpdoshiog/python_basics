{
 "cells": [
  {
   "cell_type": "code",
   "id": "initial_id",
   "metadata": {
    "collapsed": true,
    "ExecuteTime": {
     "end_time": "2025-10-30T07:33:04.610214Z",
     "start_time": "2025-10-30T07:33:04.606637Z"
    }
   },
   "source": [
    "india = [\"mumbai\", \"banglore\", \"chennai\", \"delhi\"]\n",
    "pakistan = [\"lahore\",\"karachi\",\"islamabad\"]\n",
    "bangladesh = [\"dhaka\", \"khulna\", \"rangpur\"]"
   ],
   "outputs": [],
   "execution_count": 1
  },
  {
   "metadata": {
    "ExecuteTime": {
     "end_time": "2025-10-30T07:33:08.466295Z",
     "start_time": "2025-10-30T07:33:04.615788Z"
    }
   },
   "cell_type": "code",
   "source": [
    "city = input(\"Enter city name\")\n",
    "\n",
    "if city in india:\n",
    "    print(f\"{city} is in India\")\n",
    "elif city in pakistan:\n",
    "    print(f\"{city} is in Pakistan\")\n",
    "elif city in bangladesh:\n",
    "    print(f\"{city} is in Bangladesh\")"
   ],
   "id": "9e3757f45b231865",
   "outputs": [
    {
     "name": "stdout",
     "output_type": "stream",
     "text": [
      "mumbai is in India\n"
     ]
    }
   ],
   "execution_count": 2
  },
  {
   "metadata": {
    "ExecuteTime": {
     "end_time": "2025-10-30T07:33:19.013298Z",
     "start_time": "2025-10-30T07:33:08.569339Z"
    }
   },
   "cell_type": "code",
   "source": [
    "city_1 = input(\"Enter city 1 name\")\n",
    "city_2 = input(\"Enter city 2 name\")\n",
    "\n",
    "if city_1 and city_2 in india:\n",
    "        print(\"Both cities are in India\")\n",
    "elif city_1 and city_2 in pakistan:\n",
    "    print(\"Both cities are in Pakistan\")\n",
    "elif city_1 and city_2 in bangladesh:\n",
    "    print(\"Both cities are in Bangladesh\")\n",
    "else:\n",
    "    print(\"They don't belong to same country\")"
   ],
   "id": "6e830ac87f68d17b",
   "outputs": [
    {
     "name": "stdout",
     "output_type": "stream",
     "text": [
      "Both cities are in India\n"
     ]
    }
   ],
   "execution_count": 3
  },
  {
   "metadata": {
    "ExecuteTime": {
     "end_time": "2025-10-30T07:39:15.137398Z",
     "start_time": "2025-10-30T07:39:11.990269Z"
    }
   },
   "cell_type": "code",
   "source": [
    "normal_sugar_range_min = 80\n",
    "normal_sugar_range_max = 100\n",
    "fasting_sugar_level = int(input(\"Enter sugar level: \"))\n",
    "\n",
    "if fasting_sugar_level < normal_sugar_range_min:\n",
    "    print(\"Your sugar level is low\")\n",
    "elif fasting_sugar_level > normal_sugar_range_max:\n",
    "    print(\"Your sugar level is high\")\n",
    "else:\n",
    "    print(\"It is normal\")"
   ],
   "id": "d3fc66bca94c4dfb",
   "outputs": [
    {
     "name": "stdout",
     "output_type": "stream",
     "text": [
      "It is normal\n"
     ]
    }
   ],
   "execution_count": 7
  },
  {
   "metadata": {},
   "cell_type": "code",
   "outputs": [],
   "execution_count": null,
   "source": "",
   "id": "ed7dede836ead44"
  }
 ],
 "metadata": {
  "kernelspec": {
   "display_name": "Python 3",
   "language": "python",
   "name": "python3"
  },
  "language_info": {
   "codemirror_mode": {
    "name": "ipython",
    "version": 2
   },
   "file_extension": ".py",
   "mimetype": "text/x-python",
   "name": "python",
   "nbconvert_exporter": "python",
   "pygments_lexer": "ipython2",
   "version": "2.7.6"
  }
 },
 "nbformat": 4,
 "nbformat_minor": 5
}
