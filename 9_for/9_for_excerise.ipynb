{
 "cells": [
  {
   "cell_type": "code",
   "id": "initial_id",
   "metadata": {
    "collapsed": true,
    "ExecuteTime": {
     "end_time": "2025-10-30T08:02:17.680165Z",
     "start_time": "2025-10-30T08:02:17.675660Z"
    }
   },
   "source": "result = [\"heads\",\"tails\",\"tails\",\"heads\",\"tails\",\"heads\",\"heads\",\"tails\",\"tails\",\"tails\"]",
   "outputs": [],
   "execution_count": 1
  },
  {
   "metadata": {
    "ExecuteTime": {
     "end_time": "2025-10-30T08:02:17.688305Z",
     "start_time": "2025-10-30T08:02:17.685046Z"
    }
   },
   "cell_type": "code",
   "source": [
    "count = 0\n",
    "for i in result:\n",
    "    if i == \"heads\":\n",
    "        count += 1\n",
    "print(count)"
   ],
   "id": "bf13b0d61a8b607d",
   "outputs": [
    {
     "name": "stdout",
     "output_type": "stream",
     "text": [
      "4\n"
     ]
    }
   ],
   "execution_count": 2
  },
  {
   "metadata": {
    "ExecuteTime": {
     "end_time": "2025-10-30T08:02:17.711841Z",
     "start_time": "2025-10-30T08:02:17.708561Z"
    }
   },
   "cell_type": "code",
   "source": [
    "for i in range(1, 10):\n",
    "    if i % 2 != 0:\n",
    "        print(i * i)"
   ],
   "id": "80f2e6c78c973d6",
   "outputs": [
    {
     "name": "stdout",
     "output_type": "stream",
     "text": [
      "1\n",
      "9\n",
      "25\n",
      "49\n",
      "81\n"
     ]
    }
   ],
   "execution_count": 3
  },
  {
   "metadata": {
    "ExecuteTime": {
     "end_time": "2025-10-30T08:02:17.734307Z",
     "start_time": "2025-10-30T08:02:17.731922Z"
    }
   },
   "cell_type": "code",
   "source": "expense_list = [2340, 2500, 2100, 3100, 2980]",
   "id": "25900175c8473dcd",
   "outputs": [],
   "execution_count": 4
  },
  {
   "metadata": {
    "ExecuteTime": {
     "end_time": "2025-10-30T08:05:48.745029Z",
     "start_time": "2025-10-30T08:05:45.101673Z"
    }
   },
   "cell_type": "code",
   "source": [
    "month_list = [\"January\", \"February\", \"March\", \"April\", \"May\"]\n",
    "expense_list = [2340, 2500, 2100, 3100, 2980]\n",
    "e = int(input(\"Enter expense amount: \"))\n",
    "\n",
    "\n",
    "month = -1\n",
    "for i in range(len(expense_list)):\n",
    "    if e == expense_list[i]:\n",
    "        month = i\n",
    "        break\n",
    "\n",
    "if month != -1:\n",
    "    print(f'You spent {e} in {month_list[month]}')\n",
    "else:\n",
    "    print(f'You didn\\'t spend {e} in any month')"
   ],
   "id": "3a243f17311d6c9c",
   "outputs": [
    {
     "name": "stdout",
     "output_type": "stream",
     "text": [
      "You spent 2500 in February\n"
     ]
    }
   ],
   "execution_count": 9
  },
  {
   "metadata": {
    "ExecuteTime": {
     "end_time": "2025-10-30T08:12:54.799134Z",
     "start_time": "2025-10-30T08:12:39.584112Z"
    }
   },
   "cell_type": "code",
   "source": [
    "for i in range(5):\n",
    "    print(f\"You ran {i+1} miles\") # i starts with zero hence adding 1\n",
    "    tired = input(\"Are you tired? \")\n",
    "    if tired == 'yes':\n",
    "        break\n",
    "\n",
    "if i == 4: # 4 because the index starts from 0\n",
    "    print(\"Hurray! You are a rock star! You just finished 5 km race!\")\n",
    "else:\n",
    "    print(\"You didn't finish 5 km race but hey congrats anyways! You still ran {i+1} miles\")\n"
   ],
   "id": "9ae8cc07acb5dee7",
   "outputs": [
    {
     "name": "stdout",
     "output_type": "stream",
     "text": [
      "You ran 1 miles\n",
      "You ran 2 miles\n",
      "You ran 3 miles\n",
      "You ran 4 miles\n",
      "You ran 5 miles\n",
      "Hurray! You are a rock star! You just finished 5 km race!\n"
     ]
    }
   ],
   "execution_count": 10
  },
  {
   "metadata": {
    "ExecuteTime": {
     "end_time": "2025-10-30T08:13:01.884479Z",
     "start_time": "2025-10-30T08:13:01.881243Z"
    }
   },
   "cell_type": "code",
   "source": [
    "for i in range(1,6):\n",
    "    s = ''\n",
    "    for j in range(i):\n",
    "        s += '*'\n",
    "    print(s)"
   ],
   "id": "682076f500031791",
   "outputs": [
    {
     "name": "stdout",
     "output_type": "stream",
     "text": [
      "\n",
      "Exercise 5\n",
      "\n",
      "*\n",
      "**\n",
      "***\n",
      "****\n",
      "*****\n"
     ]
    }
   ],
   "execution_count": 11
  },
  {
   "metadata": {},
   "cell_type": "code",
   "outputs": [],
   "execution_count": null,
   "source": "",
   "id": "90caa31aeeda81cc"
  }
 ],
 "metadata": {
  "kernelspec": {
   "display_name": "Python 3",
   "language": "python",
   "name": "python3"
  },
  "language_info": {
   "codemirror_mode": {
    "name": "ipython",
    "version": 2
   },
   "file_extension": ".py",
   "mimetype": "text/x-python",
   "name": "python",
   "nbconvert_exporter": "python",
   "pygments_lexer": "ipython2",
   "version": "2.7.6"
  }
 },
 "nbformat": 4,
 "nbformat_minor": 5
}
