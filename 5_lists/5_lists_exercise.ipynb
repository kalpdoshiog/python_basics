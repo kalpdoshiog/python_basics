{
 "cells": [
  {
   "cell_type": "code",
   "id": "initial_id",
   "metadata": {
    "collapsed": true,
    "ExecuteTime": {
     "end_time": "2025-10-30T07:18:54.060414Z",
     "start_time": "2025-10-30T07:18:54.056956Z"
    }
   },
   "source": "exp = [2200, 2350, 2600, 2130, 2190]",
   "outputs": [],
   "execution_count": 1
  },
  {
   "metadata": {
    "ExecuteTime": {
     "end_time": "2025-10-30T07:18:54.068338Z",
     "start_time": "2025-10-30T07:18:54.065243Z"
    }
   },
   "cell_type": "code",
   "source": "print(exp)",
   "id": "2736850a85cfe504",
   "outputs": [
    {
     "name": "stdout",
     "output_type": "stream",
     "text": [
      "[2200, 2350, 2600, 2130, 2190]\n"
     ]
    }
   ],
   "execution_count": 2
  },
  {
   "metadata": {
    "ExecuteTime": {
     "end_time": "2025-10-30T07:18:54.091278Z",
     "start_time": "2025-10-30T07:18:54.088051Z"
    }
   },
   "cell_type": "code",
   "source": [
    "# 1.In Feb, how many dollars you spent extra compare to January?\n",
    "print(exp[1] - exp[0])"
   ],
   "id": "ec849411d5c4d382",
   "outputs": [
    {
     "name": "stdout",
     "output_type": "stream",
     "text": [
      "150\n"
     ]
    }
   ],
   "execution_count": 3
  },
  {
   "metadata": {
    "ExecuteTime": {
     "end_time": "2025-10-30T07:18:54.116296Z",
     "start_time": "2025-10-30T07:18:54.113233Z"
    }
   },
   "cell_type": "code",
   "source": [
    "# 2. Find out your total expense in first quarter (first three months) of the year.\n",
    "print(sum(exp[0:3]))"
   ],
   "id": "37000e69e02b0399",
   "outputs": [
    {
     "name": "stdout",
     "output_type": "stream",
     "text": [
      "7150\n"
     ]
    }
   ],
   "execution_count": 4
  },
  {
   "metadata": {
    "ExecuteTime": {
     "end_time": "2025-10-30T07:18:54.136459Z",
     "start_time": "2025-10-30T07:18:54.133556Z"
    }
   },
   "cell_type": "code",
   "source": [
    "# 3. Find out if you spent exactly 2000 dollars in any month\n",
    "print(2000 in exp)"
   ],
   "id": "b815af4e7e4c3348",
   "outputs": [
    {
     "name": "stdout",
     "output_type": "stream",
     "text": [
      "False\n"
     ]
    }
   ],
   "execution_count": 5
  },
  {
   "metadata": {
    "ExecuteTime": {
     "end_time": "2025-10-30T07:18:54.151271Z",
     "start_time": "2025-10-30T07:18:54.147928Z"
    }
   },
   "cell_type": "code",
   "source": [
    "# 4. June month just finished and your expense is 1980 dollar. Add this item to our monthly expense list\n",
    "exp.append(1980)\n",
    "print(exp)"
   ],
   "id": "9664823eac6df5e2",
   "outputs": [
    {
     "name": "stdout",
     "output_type": "stream",
     "text": [
      "[2200, 2350, 2600, 2130, 2190, 1980]\n"
     ]
    }
   ],
   "execution_count": 6
  },
  {
   "metadata": {
    "ExecuteTime": {
     "end_time": "2025-10-30T07:18:54.174667Z",
     "start_time": "2025-10-30T07:18:54.171043Z"
    }
   },
   "cell_type": "code",
   "source": [
    "# 5. You returned an item that you bought in a month of April and got a refund of 200$. Make a correction to your monthly expense list based on this\n",
    "print(exp[3] - 200)"
   ],
   "id": "c48e9da5c4f30bae",
   "outputs": [
    {
     "name": "stdout",
     "output_type": "stream",
     "text": [
      "1930\n"
     ]
    }
   ],
   "execution_count": 7
  },
  {
   "metadata": {
    "ExecuteTime": {
     "end_time": "2025-10-30T07:18:54.208678Z",
     "start_time": "2025-10-30T07:18:54.205466Z"
    }
   },
   "cell_type": "code",
   "source": [
    "# You have a list of your favourite marvel super heros.\n",
    "\n",
    "heros=['spider man','thor','hulk','iron man','captain america']\n",
    "\n",
    "# 1. Length of the list\n",
    "print(len(heros))"
   ],
   "id": "75859d833513ac82",
   "outputs": [
    {
     "name": "stdout",
     "output_type": "stream",
     "text": [
      "5\n"
     ]
    }
   ],
   "execution_count": 8
  },
  {
   "metadata": {
    "ExecuteTime": {
     "end_time": "2025-10-30T07:18:54.230462Z",
     "start_time": "2025-10-30T07:18:54.226972Z"
    }
   },
   "cell_type": "code",
   "source": [
    "# 2. Add 'black panther' at the end of this list\n",
    "heros.append('black panther')\n",
    "print(heros)"
   ],
   "id": "e68674747e00133c",
   "outputs": [
    {
     "name": "stdout",
     "output_type": "stream",
     "text": [
      "['spider man', 'thor', 'hulk', 'iron man', 'captain america', 'black panther']\n"
     ]
    }
   ],
   "execution_count": 9
  },
  {
   "metadata": {
    "ExecuteTime": {
     "end_time": "2025-10-30T07:18:54.244953Z",
     "start_time": "2025-10-30T07:18:54.241528Z"
    }
   },
   "cell_type": "code",
   "source": [
    "# 3. You realize that you need to add 'black panther' after 'hulk',\n",
    "   # so remove it from the list first and then add it after 'hulk'\n",
    "\n",
    "heros.remove('black panther')\n",
    "print(heros)\n",
    "heros.append('hulk')\n",
    "print(heros)\n",
    "heros.append('black panther')\n",
    "print(heros)"
   ],
   "id": "81ac61ad009e920",
   "outputs": [
    {
     "name": "stdout",
     "output_type": "stream",
     "text": [
      "['spider man', 'thor', 'hulk', 'iron man', 'captain america']\n",
      "['spider man', 'thor', 'hulk', 'iron man', 'captain america', 'hulk']\n",
      "['spider man', 'thor', 'hulk', 'iron man', 'captain america', 'hulk', 'black panther']\n"
     ]
    }
   ],
   "execution_count": 10
  },
  {
   "metadata": {
    "ExecuteTime": {
     "end_time": "2025-10-30T07:18:54.267953Z",
     "start_time": "2025-10-30T07:18:54.264690Z"
    }
   },
   "cell_type": "code",
   "source": [
    "# 4. Now you don't like thor and hulk because they get angry easily :)\n",
    "   # So you want to remove thor and hulk from list and replace them with doctor strange (because he is cool).\n",
    "   # Do that with one line of code.\n",
    "heros[1:3] = ['doctor strange']\n",
    "print(heros)"
   ],
   "id": "d45cb1badcdb123d",
   "outputs": [
    {
     "name": "stdout",
     "output_type": "stream",
     "text": [
      "['spider man', 'doctor strange', 'iron man', 'captain america', 'hulk', 'black panther']\n"
     ]
    }
   ],
   "execution_count": 11
  },
  {
   "metadata": {
    "ExecuteTime": {
     "end_time": "2025-10-30T07:18:54.290017Z",
     "start_time": "2025-10-30T07:18:54.287506Z"
    }
   },
   "cell_type": "code",
   "source": "heros.sort()",
   "id": "a22ee817dcb76ce7",
   "outputs": [],
   "execution_count": 12
  },
  {
   "metadata": {
    "ExecuteTime": {
     "end_time": "2025-10-30T07:18:54.315771Z",
     "start_time": "2025-10-30T07:18:54.312488Z"
    }
   },
   "cell_type": "code",
   "source": "print(heros)",
   "id": "fa5bc8201fc3641a",
   "outputs": [
    {
     "name": "stdout",
     "output_type": "stream",
     "text": [
      "['black panther', 'captain america', 'doctor strange', 'hulk', 'iron man', 'spider man']\n"
     ]
    }
   ],
   "execution_count": 13
  }
 ],
 "metadata": {
  "kernelspec": {
   "display_name": "Python 3",
   "language": "python",
   "name": "python3"
  },
  "language_info": {
   "codemirror_mode": {
    "name": "ipython",
    "version": 2
   },
   "file_extension": ".py",
   "mimetype": "text/x-python",
   "name": "python",
   "nbconvert_exporter": "python",
   "pygments_lexer": "ipython2",
   "version": "2.7.6"
  }
 },
 "nbformat": 4,
 "nbformat_minor": 5
}
